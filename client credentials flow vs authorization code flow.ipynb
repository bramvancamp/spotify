{
 "cells": [
  {
   "cell_type": "markdown",
   "metadata": {},
   "source": [
    "# Connecting to Spotify API"
   ]
  },
  {
   "cell_type": "markdown",
   "metadata": {},
   "source": [
    "### Aim of notebook"
   ]
  },
  {
   "cell_type": "markdown",
   "metadata": {},
   "source": [
    "1) Connect to Spotify API using two different authentication methods:\n",
    "- Client Credential Flow\n",
    "- Authorization Code Flow\n",
    "\n",
    "2) Show difference in nr playlists found for user when using different authentication methods (as not all playlists are public)\n",
    "\n",
    "3) Explore content of the playlist object for next projects"
   ]
  },
  {
   "cell_type": "code",
   "execution_count": 1,
   "metadata": {
    "collapsed": true
   },
   "outputs": [],
   "source": [
    "import os"
   ]
  },
  {
   "cell_type": "code",
   "execution_count": 2,
   "metadata": {
    "collapsed": true
   },
   "outputs": [],
   "source": [
    "import spotipy\n",
    "from spotipy.oauth2 import SpotifyClientCredentials\n",
    "import spotipy.util as util"
   ]
  },
  {
   "cell_type": "markdown",
   "metadata": {},
   "source": [
    "### Client Credential Flow"
   ]
  },
  {
   "cell_type": "code",
   "execution_count": 3,
   "metadata": {
    "collapsed": true
   },
   "outputs": [],
   "source": [
    "def get_creds():\n",
    "    \"\"\" Client credentials flow is appropriate for requests that do not require access to a user’s private data. \n",
    "    To support the Client Credentials Flow Spotipy provides a class \"SpotifyClientCredentials\".\n",
    "    \"\"\"\n",
    "    creds = SpotifyClientCredentials(client_id = os.environ['spotipy_id'],\n",
    "                                     client_secret = os.environ['spotipy_secret'])\n",
    "    return creds"
   ]
  },
  {
   "cell_type": "code",
   "execution_count": 22,
   "metadata": {
    "collapsed": true
   },
   "outputs": [],
   "source": [
    "# connect\n",
    "creds = get_creds()\n",
    "sp = spotipy.Spotify(client_credentials_manager=creds)"
   ]
  },
  {
   "cell_type": "code",
   "execution_count": 23,
   "metadata": {
    "collapsed": true
   },
   "outputs": [],
   "source": [
    "# get playlists from some user (me in this case)\n",
    "playlists = sp.user_playlists('bramvcamp')"
   ]
  },
  {
   "cell_type": "code",
   "execution_count": 26,
   "metadata": {},
   "outputs": [
    {
     "name": "stdout",
     "output_type": "stream",
     "text": [
      "n playlists= 37\n"
     ]
    }
   ],
   "source": [
    "# count nr playlists (public)\n",
    "print \"n playlists=\", len(playlists['items'])"
   ]
  },
  {
   "cell_type": "code",
   "execution_count": 27,
   "metadata": {},
   "outputs": [
    {
     "name": "stdout",
     "output_type": "stream",
     "text": [
      "Elektronik n tracks= 6\n",
      "Sleepy beats n tracks= 9\n",
      "2000s trash can n tracks= 14\n"
     ]
    }
   ],
   "source": [
    "# show first 3 playlists, show count n tracks\n",
    "playlist_ids = []\n",
    "for elem in playlists['items'][0:3]:  # explore the first 3 playlists\n",
    "    print elem['name'], \"n tracks=\", elem['tracks']['total'] "
   ]
  },
  {
   "cell_type": "markdown",
   "metadata": {},
   "source": [
    "### Authorization Code Flow"
   ]
  },
  {
   "cell_type": "code",
   "execution_count": 28,
   "metadata": {
    "collapsed": true
   },
   "outputs": [],
   "source": [
    "def get_token(scope=None):\n",
    "    '''\n",
    "    To support the Authorization Code Flow Spotipy provides a utility method \"util\".\n",
    "    This creates a token while allowing the user to set the scope of using the api.\n",
    "    Info on scope: https://developer.spotify.com/web-api/using-scopes/\n",
    "    \n",
    "    If credentials are stored as local variables the function will fetch these. For windows: https://tinyurl.com/y78qpmn8\n",
    "    If not stored locally, the user has to enter the credentials manually.\n",
    "    \n",
    "    '''        \n",
    "    redirect_uri = 'http://example.com/callback/'\n",
    "    \n",
    "    try:\n",
    "        try:\n",
    "            username = os.environ['spotipy_user']\n",
    "            client_id = os.environ['spotipy_id']\n",
    "            client_secret = os.environ['spotipy_secret']\n",
    "        \n",
    "        except:  # credentials not stored as system variables\n",
    "            username = raw_input('user=')\n",
    "            client_id = raw_input('id=')\n",
    "            client_secret = raw_input('secret=')\n",
    "        token = util.prompt_for_user_token(username, scope, client_id, client_secret, redirect_uri)\n",
    "    \n",
    "    except:  # cache file for user already exists\n",
    "        os.remove('.cache-'+username)\n",
    "        token = util.prompt_for_user_token(username, scope, client_id, client_secret, redirect_uri)\n",
    "\n",
    "    return token"
   ]
  },
  {
   "cell_type": "code",
   "execution_count": 29,
   "metadata": {
    "collapsed": true
   },
   "outputs": [],
   "source": [
    "# connect\n",
    "token = get_token(scope='playlist-read-private')\n",
    "sp = spotipy.Spotify(auth=token)"
   ]
  },
  {
   "cell_type": "code",
   "execution_count": 30,
   "metadata": {
    "collapsed": true
   },
   "outputs": [],
   "source": [
    "# get playlists from current user (me in this case)\n",
    "playlists = sp.current_user_playlists()"
   ]
  },
  {
   "cell_type": "code",
   "execution_count": 31,
   "metadata": {},
   "outputs": [
    {
     "name": "stdout",
     "output_type": "stream",
     "text": [
      "n playlists= 50\n"
     ]
    }
   ],
   "source": [
    "# count nr playlists (private)\n",
    "print \"n playlists=\", len(playlists['items'])"
   ]
  }
 ],
 "metadata": {
  "kernelspec": {
   "display_name": "Python 2",
   "language": "python",
   "name": "python2"
  },
  "language_info": {
   "codemirror_mode": {
    "name": "ipython",
    "version": 2
   },
   "file_extension": ".py",
   "mimetype": "text/x-python",
   "name": "python",
   "nbconvert_exporter": "python",
   "pygments_lexer": "ipython2",
   "version": "2.7.13"
  }
 },
 "nbformat": 4,
 "nbformat_minor": 1
}
