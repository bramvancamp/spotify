{
 "cells": [
  {
   "cell_type": "markdown",
   "metadata": {},
   "source": [
    "### Introduction"
   ]
  },
  {
   "cell_type": "markdown",
   "metadata": {},
   "source": [
    "Aim of this project\n",
    "- Start with an orginal playlist and create 2 new playlists based on the original playlist\n",
    "- Store the new playlists automatically in my account\n",
    "- Listen to the new playlists and decide which one is better\n",
    "\n",
    "Approaches:\n",
    "- Nearest: build our own - based on similar artists, their top tracks and a simple algo to pick the nearest matches\n",
    "- Spreco: get Spotify's recommendations - the boring (but probably better) option"
   ]
  },
  {
   "cell_type": "code",
   "execution_count": 1,
   "metadata": {},
   "outputs": [],
   "source": [
    "# import basic packages\n",
    "import os\n",
    "import pandas as pd\n",
    "import matplotlib.pyplot as plt"
   ]
  },
  {
   "cell_type": "markdown",
   "metadata": {},
   "source": [
    "### Connect to Spotipy"
   ]
  },
  {
   "cell_type": "markdown",
   "metadata": {},
   "source": [
    "In order to connect to the Spotify API we will use the Authorization Code Flow. The credentials are stored locally in a text file."
   ]
  },
  {
   "cell_type": "code",
   "execution_count": 2,
   "metadata": {},
   "outputs": [],
   "source": [
    "import spotipy\n",
    "from spotipy.oauth2 import SpotifyClientCredentials\n",
    "import spotipy.util as util"
   ]
  },
  {
   "cell_type": "code",
   "execution_count": 3,
   "metadata": {},
   "outputs": [],
   "source": [
    "def get_creds():\n",
    "    ''' Users credentials can be stored in creds.txt file (same folder as Notebook)'''\n",
    "    f = open(\"creds.txt\", 'r')\n",
    "    if f.mode == 'r':\n",
    "        lines = f.readlines()\n",
    "        username = lines[0].rstrip('\\n')\n",
    "        client_id = lines[1].rstrip('\\n')\n",
    "        client_secret = lines[2].rstrip('\\n')\n",
    "    return username, client_id, client_secret"
   ]
  },
  {
   "cell_type": "code",
   "execution_count": 4,
   "metadata": {},
   "outputs": [],
   "source": [
    "def get_token(scope=None):\n",
    "    '''\n",
    "    To support the Authorization Code Flow Spotipy provides a utility method \"util\".\n",
    "    This creates a token while allowing the user to set the scope of using the api.\n",
    "    Info on scope: https://developer.spotify.com/web-api/using-scopes/\n",
    "    \n",
    "    '''        \n",
    "    redirect_uri = 'http://example.com/callback/'\n",
    "    \n",
    "    try:\n",
    "        try:\n",
    "            username, client_id, client_secret = get_creds()\n",
    "        \n",
    "        except:\n",
    "            username = raw_input('user=')\n",
    "            client_id = raw_input('id=')\n",
    "            client_secret = raw_input('secret=')\n",
    "        \n",
    "        token = util.prompt_for_user_token(username, scope, client_id, client_secret, redirect_uri)\n",
    "    \n",
    "    except:  # cache file for user already exists\n",
    "        os.remove('.cache-'+username)\n",
    "        token = util.prompt_for_user_token(username, scope, client_id, client_secret, redirect_uri)\n",
    "\n",
    "    return token"
   ]
  },
  {
   "cell_type": "code",
   "execution_count": 5,
   "metadata": {},
   "outputs": [],
   "source": [
    "# connect\n",
    "token = get_token(scope='playlist-modify-private')\n",
    "sp = spotipy.Spotify(auth=token)"
   ]
  },
  {
   "cell_type": "markdown",
   "metadata": {},
   "source": [
    "### Analyze original playlist"
   ]
  },
  {
   "cell_type": "markdown",
   "metadata": {},
   "source": [
    "We select playlist to start with (=original playlist). We want to get all the artists, tracks and audio features of each track."
   ]
  },
  {
   "cell_type": "code",
   "execution_count": 6,
   "metadata": {},
   "outputs": [
    {
     "name": "stdout",
     "output_type": "stream",
     "text": [
      "                                                name                      id\n",
      "0                              Indie Cindy - Nearest  2C2F3C794ivpgjHrgJdSHy\n",
      "1                               Indie Cindy - Spreco  2pOUfGueVMwes5D2s1uzoE\n",
      "2                          Energetic Run 160-165 BPM  37i9dQZF1DWT6anPZiHuxz\n",
      "3                                        Pumpin iron  1W78mhA59hwyEFBuvEAbg6\n",
      "4                                GOTG movie playlist  6WcxoUYAOBxBxuIMLKkcIM\n",
      "5                                      70s Road Trip  37i9dQZF1DWWiDhnQ2IIru\n",
      "6                                        Arbun tunes  4FOcibY3Pp6tIHWLouWFYz\n",
      "7  Max Richter – Recomposed By Max Richter: Vival...  7imIhhHQIpsK260DFsjkGl\n",
      "8                                           Easy 60s  37i9dQZF1DWZWYUuTGjjhE\n",
      "9                                            The set  3YCQJp4sh461rOvXdtaB13\n"
     ]
    }
   ],
   "source": [
    "# get all playlists from user with id's\n",
    "all_playlists = sp.user_playlists(user='bramvcamp').get('items')\n",
    "lst_all = []\n",
    "for elem in all_playlists:\n",
    "    lst_all.append([elem['name'], elem['id']])\n",
    "df_all = pd.DataFrame(lst_all, columns=['name','id'])\n",
    "print df_all[:10]"
   ]
  },
  {
   "cell_type": "code",
   "execution_count": 7,
   "metadata": {},
   "outputs": [],
   "source": [
    "# create playlist obj\n",
    "orginal_playlist_name = 'Indie Cindy'\n",
    "orginal_playlist_id = df_all['id'][df_all.name==orginal_playlist_name].iloc[0]\n",
    "original_playlist = sp.user_playlist(user='bramvcamp', playlist_id=orginal_playlist_id)"
   ]
  },
  {
   "cell_type": "code",
   "execution_count": 8,
   "metadata": {},
   "outputs": [
    {
     "name": "stdout",
     "output_type": "stream",
     "text": [
      "6 unique artists in original playlist\n"
     ]
    }
   ],
   "source": [
    "# get all artists from playlist\n",
    "lst_original_artists = []\n",
    "lst_original_tracks = []\n",
    "\n",
    "for track in original_playlist['tracks']['items']:\n",
    "    artist_id = track['track']['artists'][0]['id']\n",
    "    track_id = track['track']['id']\n",
    "    lst_original_artists.append(artist_id)\n",
    "    lst_original_tracks.append(track_id)\n",
    "    \n",
    "lst_original_artists = list(set(lst_original_artists))\n",
    "lst_original_tracks = list(set(lst_original_tracks))\n",
    "print \"{} unique artists in original playlist\".format(len(lst_original_artists))"
   ]
  },
  {
   "cell_type": "code",
   "execution_count": 9,
   "metadata": {},
   "outputs": [
    {
     "name": "stdout",
     "output_type": "stream",
     "text": [
      "                        energy  liveness    tempo  speechiness  acousticness  \\\n",
      "4c9WmjVlQMr0s1IjbYO52Z   0.744     0.466  128.047       0.0368        0.0319   \n",
      "6vTtMyCg96xwpoIBws9K0Q   0.897     0.116  150.185       0.0542        0.0276   \n",
      "5dKBaysNJtfpyNTRa5lqDb   0.821     0.153  174.923       0.0539        0.0102   \n",
      "7BHPGtpuuWWsvE7cCaMuEU   0.808     0.149  100.304       0.0892        0.0759   \n",
      "53L6A3I9vf7rgEZnMzx54E   0.931     0.246  104.050       0.0469        0.0025   \n",
      "\n",
      "                        instrumentalness  danceability  \n",
      "4c9WmjVlQMr0s1IjbYO52Z          0.000458         0.639  \n",
      "6vTtMyCg96xwpoIBws9K0Q          0.650000         0.291  \n",
      "5dKBaysNJtfpyNTRa5lqDb          0.043800         0.551  \n",
      "7BHPGtpuuWWsvE7cCaMuEU          0.000000         0.391  \n",
      "53L6A3I9vf7rgEZnMzx54E          0.078300         0.495  \n"
     ]
    }
   ],
   "source": [
    "# analyse original playlist\n",
    "lst_analysis_original = []\n",
    "lst_use = ['energy','liveness','tempo','speechiness','acousticness','instrumentalness','danceability']\n",
    "\n",
    "for track_id in lst_original_tracks:\n",
    "    audio_feats = sp.audio_features([track_id])[0]\n",
    "    lst_feats = [audio_feats.get(x) for x in lst_use]\n",
    "    lst_analysis_original.append(lst_feats)\n",
    "\n",
    "df_analysis_original = pd.DataFrame(lst_analysis_original, columns=lst_use, index=lst_original_tracks)\n",
    "print df_analysis_original.head()"
   ]
  },
  {
   "cell_type": "markdown",
   "metadata": {},
   "source": [
    "### Create database of top tracks from similar artist"
   ]
  },
  {
   "cell_type": "markdown",
   "metadata": {},
   "source": [
    "Now we'll use the API to get a list of artists which are similar (but not the same) in comparison to the artists in from the original playlist. Next, we'll select a number of their (top) tracks and their audio features. "
   ]
  },
  {
   "cell_type": "code",
   "execution_count": 10,
   "metadata": {
    "scrolled": true
   },
   "outputs": [
    {
     "name": "stdout",
     "output_type": "stream",
     "text": [
      "18 similar artists found\n",
      "      original_name              related_name\n",
      "0         The Kooks                Razorlight\n",
      "1         The Kooks            The Libertines\n",
      "2         The Kooks               The Wombats\n",
      "3   Vampire Weekend                Ra Ra Riot\n",
      "4   Vampire Weekend             Local Natives\n",
      "5   Vampire Weekend                 The Shins\n",
      "6       Joe Goddard                WhoMadeWho\n",
      "7       Joe Goddard                    Pional\n",
      "8       Joe Goddard              John Talabot\n",
      "9             Foals                  Blossoms\n",
      "10            Foals                Wolf Alice\n",
      "11            Foals             The Maccabees\n",
      "12    Django Django     Everything Everything\n",
      "13    Django Django               Wild Beasts\n",
      "14    Django Django                   Teleman\n",
      "15      Tame Impala  Unknown Mortal Orchestra\n",
      "16      Tame Impala                      Pond\n",
      "17      Tame Impala               Real Estate\n"
     ]
    }
   ],
   "source": [
    "# find similar artists\n",
    "lst_out = []\n",
    "lst_related_artists = []\n",
    "top_n_artist = 3  # we take the top n artists\n",
    "\n",
    "for artist_id in lst_original_artists:\n",
    "    artist = sp.artist(artist_id)\n",
    "    artist_name = artist.get('name')\n",
    "    related = sp.artist_related_artists(artist['id'])\n",
    "    related_artists = related.get('artists')\n",
    "    \n",
    "    for related_artist in related_artists[:top_n_artist]:\n",
    "        if related_artist['id'] not in lst_original_artists+lst_related_artists:\n",
    "            lst_related_artists.append(related_artist['id'])\n",
    "            lst_out.append([artist_id, artist_name, related_artist['id'], related_artist['name']])\n",
    "\n",
    "df_related = pd.DataFrame(lst_out, columns=['original_id', 'original_name', 'related_id', 'related_name'])\n",
    "print \"{} similar artists found\".format(len(lst_related_artists))\n",
    "print df_related[['original_name','related_name']]"
   ]
  },
  {
   "cell_type": "code",
   "execution_count": 11,
   "metadata": {},
   "outputs": [
    {
     "name": "stdout",
     "output_type": "stream",
     "text": [
      "180 tracks found\n"
     ]
    }
   ],
   "source": [
    "# get top n tracks for each artist\n",
    "lst_new = []\n",
    "top_n_tracks = 10\n",
    "\n",
    "for artist in lst_related_artists:\n",
    "    counter = 0\n",
    "    tracks = sp.artist_top_tracks(artist, country='NL')\n",
    "    tracks = tracks.get('tracks')\n",
    "    \n",
    "    for track in tracks:\n",
    "        if counter < top_n_tracks:\n",
    "            lst_new.append(track.get('id'))\n",
    "            counter +=1\n",
    "        else:\n",
    "            break\n",
    "print \"{} tracks found\".format(len(lst_new))"
   ]
  },
  {
   "cell_type": "code",
   "execution_count": 12,
   "metadata": {},
   "outputs": [],
   "source": [
    "# analyse new tracks\n",
    "lst_analysis_new = []\n",
    "lst_use = ['energy','liveness','tempo','speechiness','acousticness','instrumentalness','danceability']\n",
    "\n",
    "for track_id in lst_new:\n",
    "    audio_feats = sp.audio_features([track_id])[0]\n",
    "    lst_feats = [audio_feats.get(x) for x in lst_use]\n",
    "    lst_analysis_new.append(lst_feats)\n",
    "\n",
    "df_analysis_new = pd.DataFrame(lst_analysis_new, columns=lst_use, index=lst_new)"
   ]
  },
  {
   "cell_type": "markdown",
   "metadata": {},
   "source": [
    "### Find which of the new tracks fit best to original playlist"
   ]
  },
  {
   "cell_type": "markdown",
   "metadata": {},
   "source": [
    "We created a fairly large database with new tracks. Now we only want to keep those tracks which are similar (=nearest) to the tracks in the original playlist - here we'll use the data from the audio analysis.\n",
    "\n",
    "Hereby we'll end up with our new playlist which we'll analyze in the end to see how \"similar\" our new playlist is in comparison to the original playlist."
   ]
  },
  {
   "cell_type": "code",
   "execution_count": 13,
   "metadata": {},
   "outputs": [],
   "source": [
    "from sklearn.neighbors import NearestNeighbors\n",
    "import numpy as np"
   ]
  },
  {
   "cell_type": "code",
   "execution_count": 14,
   "metadata": {},
   "outputs": [],
   "source": [
    "knn = NearestNeighbors(n_neighbors=5)\n",
    "X_original = np.array(df_analysis_original)\n",
    "X_new = np.array(df_analysis_new)\n",
    "knn.fit(X_new)\n",
    "lst_ix = knn.kneighbors(X_original, n_neighbors=1, return_distance=False)"
   ]
  },
  {
   "cell_type": "code",
   "execution_count": 15,
   "metadata": {},
   "outputs": [
    {
     "name": "stdout",
     "output_type": "stream",
     "text": [
      "nr of original tracks: 8\n",
      "nr of nearest tracks: 8\n"
     ]
    }
   ],
   "source": [
    "# flatten list of lists\n",
    "lst_new_ix = []\n",
    "for lst in lst_ix: \n",
    "    for ix in lst:\n",
    "        lst_new_ix.append(ix)\n",
    "        \n",
    "lst_nearest_tracks = [lst_new[i] for i in lst_new_ix]\n",
    "print \"nr of original tracks:\", len(lst_original_tracks)\n",
    "print \"nr of nearest tracks:\", len(lst_nearest_tracks)"
   ]
  },
  {
   "cell_type": "code",
   "execution_count": 16,
   "metadata": {},
   "outputs": [
    {
     "name": "stdout",
     "output_type": "stream",
     "text": [
      "                        energy  liveness    tempo  speechiness  acousticness  \\\n",
      "5cCRoO5AGNmZp3S1HOvoH6   0.902    0.1580  128.020       0.0647      0.000228   \n",
      "0ZwlxoHAnvkCRjsOrHAleU   0.875    0.1690  150.782       0.0301      0.029900   \n",
      "5EkRiZl4BY7carwe6ikHF3   0.885    0.0986  175.001       0.1390      0.014500   \n",
      "6iFwcRQsGBmW4paSWz5phj   0.806    0.6940  100.157       0.0402      0.000264   \n",
      "1H4mV1lgrNBUjZgRjjP1nu   0.782    0.2840  104.104       0.0273      0.058100   \n",
      "\n",
      "                        danceability  \n",
      "5cCRoO5AGNmZp3S1HOvoH6         0.443  \n",
      "0ZwlxoHAnvkCRjsOrHAleU         0.408  \n",
      "5EkRiZl4BY7carwe6ikHF3         0.415  \n",
      "6iFwcRQsGBmW4paSWz5phj         0.411  \n",
      "1H4mV1lgrNBUjZgRjjP1nu         0.484  \n"
     ]
    }
   ],
   "source": [
    "# analyse nearest tracks\n",
    "lst_analysis_nearest = []\n",
    "lst_use = ['energy','liveness','tempo','speechiness','acousticness','danceability']\n",
    "\n",
    "for track_id in lst_nearest_tracks:\n",
    "    audio_feats = sp.audio_features([track_id])[0]\n",
    "    lst_feats = [audio_feats.get(x) for x in lst_use]\n",
    "    lst_analysis_nearest.append(lst_feats)\n",
    "\n",
    "df_analysis_nearest = pd.DataFrame(lst_analysis_nearest, columns=lst_use, index=lst_nearest_tracks)\n",
    "print df_analysis_nearest.head()"
   ]
  },
  {
   "cell_type": "markdown",
   "metadata": {},
   "source": [
    "### Create playlist based on Spotify's recommendations"
   ]
  },
  {
   "cell_type": "markdown",
   "metadata": {},
   "source": [
    "This will serve as benchmark - aka the boring option."
   ]
  },
  {
   "cell_type": "code",
   "execution_count": 17,
   "metadata": {},
   "outputs": [],
   "source": [
    "lst_spreco_tracks = []\n",
    "\n",
    "for track in lst_original_tracks:\n",
    "    reco = sp.recommendations(limit=1, seed_tracks=[track])\n",
    "    tracks = reco.get('tracks')\n",
    "    \n",
    "    for track in tracks:\n",
    "        track_id = track.get('id')\n",
    "        lst_spreco_tracks.append(track_id)"
   ]
  },
  {
   "cell_type": "code",
   "execution_count": 18,
   "metadata": {},
   "outputs": [
    {
     "name": "stdout",
     "output_type": "stream",
     "text": [
      "                        energy  liveness    tempo  speechiness  acousticness  \\\n",
      "757PJjXAgywxrYkdhMkEV9   0.587     0.207  168.847       0.0537       0.00648   \n",
      "5h9hkYIBWTZYFRmF6Iz1gt   0.699     0.171  111.024       0.0333       0.00550   \n",
      "0jsnjV8zzGvZQSlbsc0Yl8   0.862     0.275  108.079       0.0531       0.00934   \n",
      "5nHRIKsXDwUpse9gzrAxLR   0.717     0.044  119.907       0.0498       0.11100   \n",
      "4L2F0LcDVtNrFc1K4lmx3m   0.812     0.211  129.988       0.0355       0.06660   \n",
      "\n",
      "                        danceability  \n",
      "757PJjXAgywxrYkdhMkEV9         0.342  \n",
      "5h9hkYIBWTZYFRmF6Iz1gt         0.502  \n",
      "0jsnjV8zzGvZQSlbsc0Yl8         0.617  \n",
      "5nHRIKsXDwUpse9gzrAxLR         0.692  \n",
      "4L2F0LcDVtNrFc1K4lmx3m         0.694  \n"
     ]
    }
   ],
   "source": [
    "# analyze Spotify's recommendations\n",
    "lst_analysis_spreco = []\n",
    "lst_use = ['energy','liveness','tempo','speechiness','acousticness','danceability']\n",
    "\n",
    "for track_id in lst_spreco_tracks:\n",
    "    audio_feats = sp.audio_features([track_id])[0]\n",
    "    lst_feats = [audio_feats.get(x) for x in lst_use]\n",
    "    lst_analysis_spreco.append(lst_feats)\n",
    "\n",
    "df_analysis_spreco = pd.DataFrame(lst_analysis_spreco, columns=lst_use, index=lst_spreco_tracks)\n",
    "print df_analysis_spreco.head()"
   ]
  },
  {
   "cell_type": "markdown",
   "metadata": {},
   "source": [
    "### Visual/similarity analysis of all 3 playlists"
   ]
  },
  {
   "cell_type": "code",
   "execution_count": 19,
   "metadata": {},
   "outputs": [
    {
     "data": {
      "image/png": "[encoded data removed]",
      "text/plain": [
       "<Figure size 720x360 with 3 Axes>"
      ]
     },
     "metadata": {
      "needs_background": "light"
     },
     "output_type": "display_data"
    },
    {
     "data": {
      "image/png": "[encoded data removed]",
      "text/plain": [
       "<Figure size 720x360 with 3 Axes>"
      ]
     },
     "metadata": {
      "needs_background": "light"
     },
     "output_type": "display_data"
    },
    {
     "data": {
      "image/png": "[encoded data removed]",
      "text/plain": [
       "<Figure size 720x360 with 3 Axes>"
      ]
     },
     "metadata": {
      "needs_background": "light"
     },
     "output_type": "display_data"
    },
    {
     "data": {
      "image/png": "[encoded data removed]",
      "text/plain": [
       "<Figure size 720x360 with 3 Axes>"
      ]
     },
     "metadata": {
      "needs_background": "light"
     },
     "output_type": "display_data"
    },
    {
     "data": {
      "image/png": "[encoded data removed]",
      "text/plain": [
       "<Figure size 720x360 with 3 Axes>"
      ]
     },
     "metadata": {
      "needs_background": "light"
     },
     "output_type": "display_data"
    },
    {
     "data": {
      "image/png": "[encoded data removed]",
      "text/plain": [
       "<Figure size 720x360 with 3 Axes>"
      ]
     },
     "metadata": {
      "needs_background": "light"
     },
     "output_type": "display_data"
    }
   ],
   "source": [
    "# compare playlist audio features\n",
    "for kpi in lst_use:\n",
    "    fig, (ax1, ax2, ax3) = plt.subplots(nrows=1, ncols=3, figsize=(10,5), sharey=True)\n",
    "    \n",
    "    ax1.boxplot(df_analysis_original[kpi])\n",
    "    ax1.set_title(kpi +' orginal')\n",
    "    ax1.set_xticks([0])\n",
    "    \n",
    "    ax2.boxplot(df_analysis_nearest[kpi])\n",
    "    ax2.set_title(kpi +' nearest')\n",
    "    ax2.set_xticks([0])\n",
    "    \n",
    "    ax3.boxplot(df_analysis_spreco[kpi])\n",
    "    ax3.set_title(kpi +' spreco')\n",
    "    ax3.set_xticks([0])"
   ]
  },
  {
   "cell_type": "markdown",
   "metadata": {},
   "source": [
    "### Store both new playlist in Spotify"
   ]
  },
  {
   "cell_type": "code",
   "execution_count": 20,
   "metadata": {},
   "outputs": [
    {
     "name": "stdout",
     "output_type": "stream",
     "text": [
      "new playlist created:\n",
      "Indie Cindy - Nearest\n"
     ]
    }
   ],
   "source": [
    "# create Nearest playlist\n",
    "user ='bramvcamp'\n",
    "new_playlist_name = orginal_playlist_name+' - Nearest'\n",
    "new_playlist = sp.user_playlist_create(user, name=new_playlist_name, public=False)\n",
    "playlist_id = new_playlist.get('id')\n",
    "sp.user_playlist_add_tracks(user, playlist_id, tracks=lst_nearest_tracks)\n",
    "\n",
    "print \"new playlist created:\"\n",
    "print new_playlist_name"
   ]
  },
  {
   "cell_type": "code",
   "execution_count": 21,
   "metadata": {},
   "outputs": [
    {
     "name": "stdout",
     "output_type": "stream",
     "text": [
      "new playlist created:\n",
      "Indie Cindy - Spreco\n"
     ]
    }
   ],
   "source": [
    "# create Spreco playlist\n",
    "user ='bramvcamp'\n",
    "new_playlist_name = orginal_playlist_name+' - Spreco'\n",
    "new_playlist = sp.user_playlist_create(user, name=new_playlist_name, public=False)\n",
    "playlist_id = new_playlist.get('id')\n",
    "sp.user_playlist_add_tracks(user, playlist_id, tracks=lst_spreco_tracks)\n",
    "\n",
    "print \"new playlist created:\"\n",
    "print new_playlist_name"
   ]
  }
 ],
 "metadata": {
  "kernelspec": {
   "display_name": "Python 2",
   "language": "python",
   "name": "python2"
  },
  "language_info": {
   "codemirror_mode": {
    "name": "ipython",
    "version": 2
   },
   "file_extension": ".py",
   "mimetype": "text/x-python",
   "name": "python",
   "nbconvert_exporter": "python",
   "pygments_lexer": "ipython2",
   "version": "2.7.16"
  }
 },
 "nbformat": 4,
 "nbformat_minor": 1
}
