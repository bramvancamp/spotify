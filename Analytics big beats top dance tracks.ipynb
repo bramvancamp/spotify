{
 "cells": [
  {
   "cell_type": "markdown",
   "metadata": {},
   "source": [
    "### Introduction"
   ]
  },
  {
   "cell_type": "markdown",
   "metadata": {},
   "source": [
    "Aim of this project\n",
    "- Analyze playlist\n",
    "- Find the best party tracks\n",
    "- Store list"
   ]
  },
  {
   "cell_type": "code",
   "execution_count": 8,
   "metadata": {},
   "outputs": [],
   "source": [
    "# import basic packages\n",
    "import os\n",
    "import pandas as pd\n",
    "import matplotlib.pyplot as plt"
   ]
  },
  {
   "cell_type": "markdown",
   "metadata": {},
   "source": [
    "### Connect to Spotipy"
   ]
  },
  {
   "cell_type": "markdown",
   "metadata": {},
   "source": [
    "In order to connect to the Spotify API we will use the Authorization Code Flow. The credentials are stored locally in a text file."
   ]
  },
  {
   "cell_type": "code",
   "execution_count": 9,
   "metadata": {},
   "outputs": [],
   "source": [
    "import spotipy\n",
    "from spotipy.oauth2 import SpotifyClientCredentials\n",
    "import spotipy.util as util"
   ]
  },
  {
   "cell_type": "code",
   "execution_count": 10,
   "metadata": {},
   "outputs": [],
   "source": [
    "def get_creds():\n",
    "    ''' Users credentials can be stored in creds.txt file (same folder as Notebook)'''\n",
    "    f = open(\"creds.txt\", 'r')\n",
    "    if f.mode == 'r':\n",
    "        lines = f.readlines()\n",
    "        username = lines[0].rstrip('\\n')\n",
    "        client_id = lines[1].rstrip('\\n')\n",
    "        client_secret = lines[2].rstrip('\\n')\n",
    "    return username, client_id, client_secret"
   ]
  },
  {
   "cell_type": "code",
   "execution_count": 11,
   "metadata": {},
   "outputs": [],
   "source": [
    "def get_token(scope=None):\n",
    "    '''\n",
    "    To support the Authorization Code Flow Spotipy provides a utility method \"util\".\n",
    "    This creates a token while allowing the user to set the scope of using the api.\n",
    "    Info on scope: https://developer.spotify.com/web-api/using-scopes/\n",
    "    \n",
    "    '''        \n",
    "    redirect_uri = 'http://example.com/callback/'\n",
    "    \n",
    "    try:\n",
    "        try:\n",
    "            username, client_id, client_secret = get_creds()\n",
    "        \n",
    "        except:\n",
    "            username = raw_input('user=')\n",
    "            client_id = raw_input('id=')\n",
    "            client_secret = raw_input('secret=')\n",
    "        \n",
    "        token = util.prompt_for_user_token(username, scope, client_id, client_secret, redirect_uri)\n",
    "    \n",
    "    except:  # cache file for user already exists\n",
    "        os.remove('.cache-'+username)\n",
    "        token = util.prompt_for_user_token(username, scope, client_id, client_secret, redirect_uri)\n",
    "\n",
    "    return token"
   ]
  },
  {
   "cell_type": "code",
   "execution_count": 12,
   "metadata": {},
   "outputs": [],
   "source": [
    "# connect\n",
    "token = get_token(scope='playlist-modify-private')\n",
    "sp = spotipy.Spotify(auth=token)"
   ]
  },
  {
   "cell_type": "markdown",
   "metadata": {},
   "source": [
    "### Analyze playlist"
   ]
  },
  {
   "cell_type": "code",
   "execution_count": 28,
   "metadata": {},
   "outputs": [],
   "source": [
    "# create playlist object\n",
    "playlist = sp.user_playlist(user='roryvigus',  # rory is playlist owner (public playlist)\n",
    "                            playlist_id='7DmVLRt9z0ACsi18uEukFA') # analytics big beats"
   ]
  },
  {
   "cell_type": "code",
   "execution_count": 85,
   "metadata": {},
   "outputs": [
    {
     "name": "stdout",
     "output_type": "stream",
     "text": [
      "91 tracks in playlist\n"
     ]
    }
   ],
   "source": [
    "# get all tracks from playlist\n",
    "lst_track_ids = []\n",
    "lst_track_info = []\n",
    "\n",
    "for track in playlist['tracks']['items']:\n",
    "    track_id = track['track']['id']\n",
    "    track_name = track['track']['name']\n",
    "    artist = track['track']['artists'][0]['name']\n",
    "    pop = track['track']['popularity']\n",
    "\n",
    "    lst_track_ids.append(track_id)\n",
    "    lst_track_info.append([track_name, artist, pop])\n",
    "    \n",
    "print(\"{} tracks in playlist\".format(len(lst_track_ids)))"
   ]
  },
  {
   "cell_type": "code",
   "execution_count": 46,
   "metadata": {},
   "outputs": [],
   "source": [
    "# get audio features\n",
    "lst_analysis = []\n",
    "lst_use = ['energy','liveness','tempo','speechiness','acousticness','instrumentalness','danceability']\n",
    "\n",
    "for track_id in lst_track_ids:\n",
    "    audio_feats = sp.audio_features([track_id])[0]\n",
    "    lst_feats = [audio_feats.get(x) for x in lst_use]\n",
    "    lst_analysis.append(lst_feats)"
   ]
  },
  {
   "cell_type": "code",
   "execution_count": 100,
   "metadata": {},
   "outputs": [],
   "source": [
    "# create output dataframe\n",
    "df_analysis = pd.DataFrame(lst_analysis, columns=lst_use, index=lst_track_ids)\n",
    "df_track_info = pd.DataFrame(lst_track_info, columns=['track_name','artist','popularity'], index=lst_track_ids)\n",
    "df_out = pd.concat([df_analysis, df_track_info], axis=1)"
   ]
  },
  {
   "cell_type": "code",
   "execution_count": 107,
   "metadata": {},
   "outputs": [
    {
     "name": "stdout",
     "output_type": "stream",
     "text": [
      "                        energy  liveness    tempo  speechiness  acousticness  \\\n",
      "3J6j37UOwKX1OknQuIxdEX   0.354    0.0681  169.889       0.3740        0.5780   \n",
      "0ipLnUeK5PODrTKyT3wVGT   0.680    0.0554   96.916       0.2190        0.0881   \n",
      "0V2VCTEq0ZqTOfMA44WK3Z   0.131    0.1050  160.005       0.0371        0.8160   \n",
      "6XN8ygVU7ltNbEgKLPUrKy   0.609    0.1100  112.874       0.0304        0.8390   \n",
      "5qNNanYonpCwahfJGuFVRQ   0.821    0.1050  112.011       0.0307        0.0410   \n",
      "\n",
      "                        instrumentalness  danceability  \\\n",
      "3J6j37UOwKX1OknQuIxdEX          0.000164         0.810   \n",
      "0ipLnUeK5PODrTKyT3wVGT          0.000000         0.939   \n",
      "0V2VCTEq0ZqTOfMA44WK3Z          0.468000         0.577   \n",
      "6XN8ygVU7ltNbEgKLPUrKy          0.060300         0.613   \n",
      "5qNNanYonpCwahfJGuFVRQ          0.033300         0.661   \n",
      "\n",
      "                                              track_name         artist  \\\n",
      "3J6j37UOwKX1OknQuIxdEX                            D'fish  Chlorine Free   \n",
      "0ipLnUeK5PODrTKyT3wVGT                             Shoop    Salt-N-Pepa   \n",
      "0V2VCTEq0ZqTOfMA44WK3Z                John the Revelator   Nicolas Jaar   \n",
      "6XN8ygVU7ltNbEgKLPUrKy  You Were on My Mind This Morning       Hot Rize   \n",
      "5qNNanYonpCwahfJGuFVRQ               Peace Blossom Boogy   Babe Rainbow   \n",
      "\n",
      "                        popularity  resc_energy  resc_liveness  resc_tempo  \\\n",
      "3J6j37UOwKX1OknQuIxdEX          17     0.369520       0.097009    0.699411   \n",
      "0ipLnUeK5PODrTKyT3wVGT          14     0.709812       0.078917    0.398991   \n",
      "0V2VCTEq0ZqTOfMA44WK3Z          37     0.136743       0.149573    0.658720   \n",
      "6XN8ygVU7ltNbEgKLPUrKy          38     0.635699       0.156695    0.464688   \n",
      "5qNNanYonpCwahfJGuFVRQ          55     0.856994       0.149573    0.461135   \n",
      "\n",
      "                        resc_speechiness  resc_acousticness  \\\n",
      "3J6j37UOwKX1OknQuIxdEX          0.722008           0.600832   \n",
      "0ipLnUeK5PODrTKyT3wVGT          0.422780           0.091580   \n",
      "0V2VCTEq0ZqTOfMA44WK3Z          0.071622           0.848233   \n",
      "6XN8ygVU7ltNbEgKLPUrKy          0.058687           0.872141   \n",
      "5qNNanYonpCwahfJGuFVRQ          0.059266           0.042620   \n",
      "\n",
      "                        resc_instrumentalness  resc_danceability  \n",
      "3J6j37UOwKX1OknQuIxdEX               0.000174           0.862620  \n",
      "0ipLnUeK5PODrTKyT3wVGT               0.000000           1.000000  \n",
      "0V2VCTEq0ZqTOfMA44WK3Z               0.496815           0.614483  \n",
      "6XN8ygVU7ltNbEgKLPUrKy               0.064013           0.652822  \n",
      "5qNNanYonpCwahfJGuFVRQ               0.035350           0.703940  \n"
     ]
    }
   ],
   "source": [
    "print(df_out.head())"
   ]
  },
  {
   "cell_type": "code",
   "execution_count": 109,
   "metadata": {},
   "outputs": [],
   "source": [
    "# rescale values\n",
    "feats = [i for i in df_out.columns if i not in ['track_name', 'artist']]"
   ]
  },
  {
   "cell_type": "code",
   "execution_count": 112,
   "metadata": {},
   "outputs": [],
   "source": [
    "for col in feats:\n",
    "    newcol = 'resc_'+col\n",
    "    df_out[newcol] = df_out[col]/max(df_out[col])  # so each column has max=1, min=0"
   ]
  },
  {
   "cell_type": "code",
   "execution_count": 113,
   "metadata": {},
   "outputs": [
    {
     "name": "stdout",
     "output_type": "stream",
     "text": [
      "                        energy  liveness    tempo  speechiness  acousticness  \\\n",
      "3J6j37UOwKX1OknQuIxdEX   0.354    0.0681  169.889       0.3740        0.5780   \n",
      "0ipLnUeK5PODrTKyT3wVGT   0.680    0.0554   96.916       0.2190        0.0881   \n",
      "0V2VCTEq0ZqTOfMA44WK3Z   0.131    0.1050  160.005       0.0371        0.8160   \n",
      "6XN8ygVU7ltNbEgKLPUrKy   0.609    0.1100  112.874       0.0304        0.8390   \n",
      "5qNNanYonpCwahfJGuFVRQ   0.821    0.1050  112.011       0.0307        0.0410   \n",
      "\n",
      "                        instrumentalness  danceability  \\\n",
      "3J6j37UOwKX1OknQuIxdEX          0.000164         0.810   \n",
      "0ipLnUeK5PODrTKyT3wVGT          0.000000         0.939   \n",
      "0V2VCTEq0ZqTOfMA44WK3Z          0.468000         0.577   \n",
      "6XN8ygVU7ltNbEgKLPUrKy          0.060300         0.613   \n",
      "5qNNanYonpCwahfJGuFVRQ          0.033300         0.661   \n",
      "\n",
      "                                              track_name         artist  \\\n",
      "3J6j37UOwKX1OknQuIxdEX                            D'fish  Chlorine Free   \n",
      "0ipLnUeK5PODrTKyT3wVGT                             Shoop    Salt-N-Pepa   \n",
      "0V2VCTEq0ZqTOfMA44WK3Z                John the Revelator   Nicolas Jaar   \n",
      "6XN8ygVU7ltNbEgKLPUrKy  You Were on My Mind This Morning       Hot Rize   \n",
      "5qNNanYonpCwahfJGuFVRQ               Peace Blossom Boogy   Babe Rainbow   \n",
      "\n",
      "                        popularity  ...  resc_instrumentalness  \\\n",
      "3J6j37UOwKX1OknQuIxdEX          17  ...               0.000174   \n",
      "0ipLnUeK5PODrTKyT3wVGT          14  ...               0.000000   \n",
      "0V2VCTEq0ZqTOfMA44WK3Z          37  ...               0.496815   \n",
      "6XN8ygVU7ltNbEgKLPUrKy          38  ...               0.064013   \n",
      "5qNNanYonpCwahfJGuFVRQ          55  ...               0.035350   \n",
      "\n",
      "                        resc_danceability  resc_popularity  resc_resc_energy  \\\n",
      "3J6j37UOwKX1OknQuIxdEX           0.862620         0.207317          0.369520   \n",
      "0ipLnUeK5PODrTKyT3wVGT           1.000000         0.170732          0.709812   \n",
      "0V2VCTEq0ZqTOfMA44WK3Z           0.614483         0.451220          0.136743   \n",
      "6XN8ygVU7ltNbEgKLPUrKy           0.652822         0.463415          0.635699   \n",
      "5qNNanYonpCwahfJGuFVRQ           0.703940         0.670732          0.856994   \n",
      "\n",
      "                        resc_resc_liveness  resc_resc_tempo  \\\n",
      "3J6j37UOwKX1OknQuIxdEX            0.097009         0.699411   \n",
      "0ipLnUeK5PODrTKyT3wVGT            0.078917         0.398991   \n",
      "0V2VCTEq0ZqTOfMA44WK3Z            0.149573         0.658720   \n",
      "6XN8ygVU7ltNbEgKLPUrKy            0.156695         0.464688   \n",
      "5qNNanYonpCwahfJGuFVRQ            0.149573         0.461135   \n",
      "\n",
      "                        resc_resc_speechiness  resc_resc_acousticness  \\\n",
      "3J6j37UOwKX1OknQuIxdEX               0.722008                0.600832   \n",
      "0ipLnUeK5PODrTKyT3wVGT               0.422780                0.091580   \n",
      "0V2VCTEq0ZqTOfMA44WK3Z               0.071622                0.848233   \n",
      "6XN8ygVU7ltNbEgKLPUrKy               0.058687                0.872141   \n",
      "5qNNanYonpCwahfJGuFVRQ               0.059266                0.042620   \n",
      "\n",
      "                        resc_resc_instrumentalness  resc_resc_danceability  \n",
      "3J6j37UOwKX1OknQuIxdEX                    0.000174                0.862620  \n",
      "0ipLnUeK5PODrTKyT3wVGT                    0.000000                1.000000  \n",
      "0V2VCTEq0ZqTOfMA44WK3Z                    0.496815                0.614483  \n",
      "6XN8ygVU7ltNbEgKLPUrKy                    0.064013                0.652822  \n",
      "5qNNanYonpCwahfJGuFVRQ                    0.035350                0.703940  \n",
      "\n",
      "[5 rows x 25 columns]\n"
     ]
    }
   ],
   "source": [
    "print(df_out.head())"
   ]
  },
  {
   "cell_type": "markdown",
   "metadata": {},
   "source": [
    "### Select top tracks"
   ]
  },
  {
   "cell_type": "code",
   "execution_count": 119,
   "metadata": {},
   "outputs": [],
   "source": [
    "df_out['party_score'] = df_out['danceability']+df_out['popularity']"
   ]
  },
  {
   "cell_type": "code",
   "execution_count": 121,
   "metadata": {},
   "outputs": [
    {
     "name": "stdout",
     "output_type": "stream",
     "text": [
      "                        energy  liveness    tempo  speechiness  acousticness  \\\n",
      "3bH4HzoZZFq8UpZmI2AMgV   0.689    0.0808  123.931       0.0326        0.3250   \n",
      "5ByAIlEEnxYdvpnezg7HTX   0.816    0.2040   96.056       0.2470        0.4720   \n",
      "2FUNBaa5DwItJtYEBgAblU   0.607    0.1180  134.022       0.1240        0.1580   \n",
      "0BgbobvykXxEvxo2HhCuvM   0.373    0.0931  114.550       0.1160        0.6020   \n",
      "7kzKAuUzOITUauHAhoMoxA   0.910    0.0789  104.042       0.0297        0.0285   \n",
      "4yKZACkuudvfd600H2dQie   0.626    0.0560  110.864       0.0604        0.2050   \n",
      "56NkIxSZZiMpFP5ZNSxtnT   0.531    0.3380  105.970       0.0301        0.0033   \n",
      "1g7zNtcGrWt8gcBRwDQEkf   0.507    0.1510  139.931       0.0707        0.3970   \n",
      "2DoO0sn4SbUrz7Uay9ACTM   0.655    0.0961  114.004       0.0416        0.4150   \n",
      "5piJiL6aRhvrKBa9YuEfS9   0.725    0.3450  112.620       0.0372        0.1600   \n",
      "\n",
      "                        instrumentalness  danceability             track_name  \\\n",
      "3bH4HzoZZFq8UpZmI2AMgV          0.038400         0.828              New Light   \n",
      "5ByAIlEEnxYdvpnezg7HTX          0.000000         0.889  Juicy - 2005 Remaster   \n",
      "2FUNBaa5DwItJtYEBgAblU          0.000228         0.890                monster   \n",
      "0BgbobvykXxEvxo2HhCuvM          0.000017         0.814        Banana Pancakes   \n",
      "7kzKAuUzOITUauHAhoMoxA          0.000198         0.624              Last Nite   \n",
      "4yKZACkuudvfd600H2dQie          0.000061         0.879         Get Down On It   \n",
      "56NkIxSZZiMpFP5ZNSxtnT          0.000002         0.542                Someday   \n",
      "1g7zNtcGrWt8gcBRwDQEkf          0.000744         0.502                   Gold   \n",
      "2DoO0sn4SbUrz7Uay9ACTM          0.007400         0.800               Tailwhip   \n",
      "5piJiL6aRhvrKBa9YuEfS9          0.003240         0.646             Peace Frog   \n",
      "\n",
      "                                          artist  popularity  ...  \\\n",
      "3bH4HzoZZFq8UpZmI2AMgV                John Mayer          82  ...   \n",
      "5ByAIlEEnxYdvpnezg7HTX      The Notorious B.I.G.          78  ...   \n",
      "2FUNBaa5DwItJtYEBgAblU                 21 Savage          74  ...   \n",
      "0BgbobvykXxEvxo2HhCuvM              Jack Johnson          73  ...   \n",
      "7kzKAuUzOITUauHAhoMoxA               The Strokes          73  ...   \n",
      "4yKZACkuudvfd600H2dQie           Kool & The Gang          71  ...   \n",
      "56NkIxSZZiMpFP5ZNSxtnT               The Strokes          67  ...   \n",
      "1g7zNtcGrWt8gcBRwDQEkf  Nick Murphy / Chet Faker          64  ...   \n",
      "2DoO0sn4SbUrz7Uay9ACTM               Men I Trust          62  ...   \n",
      "5piJiL6aRhvrKBa9YuEfS9                 The Doors          62  ...   \n",
      "\n",
      "                        resc_danceability  resc_popularity  resc_resc_energy  \\\n",
      "3bH4HzoZZFq8UpZmI2AMgV           0.881789         1.000000          0.719207   \n",
      "5ByAIlEEnxYdvpnezg7HTX           0.946752         0.951220          0.851775   \n",
      "2FUNBaa5DwItJtYEBgAblU           0.947817         0.902439          0.633612   \n",
      "0BgbobvykXxEvxo2HhCuvM           0.866880         0.890244          0.389353   \n",
      "7kzKAuUzOITUauHAhoMoxA           0.664537         0.890244          0.949896   \n",
      "4yKZACkuudvfd600H2dQie           0.936102         0.865854          0.653445   \n",
      "56NkIxSZZiMpFP5ZNSxtnT           0.577210         0.817073          0.554280   \n",
      "1g7zNtcGrWt8gcBRwDQEkf           0.534611         0.780488          0.529228   \n",
      "2DoO0sn4SbUrz7Uay9ACTM           0.851970         0.756098          0.683716   \n",
      "5piJiL6aRhvrKBa9YuEfS9           0.687966         0.756098          0.756785   \n",
      "\n",
      "                        resc_resc_liveness  resc_resc_tempo  \\\n",
      "3bH4HzoZZFq8UpZmI2AMgV            0.115100         0.510208   \n",
      "5ByAIlEEnxYdvpnezg7HTX            0.290598         0.395450   \n",
      "2FUNBaa5DwItJtYEBgAblU            0.168091         0.551751   \n",
      "0BgbobvykXxEvxo2HhCuvM            0.132621         0.471587   \n",
      "7kzKAuUzOITUauHAhoMoxA            0.112393         0.428327   \n",
      "4yKZACkuudvfd600H2dQie            0.079772         0.456413   \n",
      "56NkIxSZZiMpFP5ZNSxtnT            0.481481         0.436265   \n",
      "1g7zNtcGrWt8gcBRwDQEkf            0.215100         0.576078   \n",
      "2DoO0sn4SbUrz7Uay9ACTM            0.136895         0.469340   \n",
      "5piJiL6aRhvrKBa9YuEfS9            0.491453         0.463642   \n",
      "\n",
      "                        resc_resc_speechiness  resc_resc_acousticness  \\\n",
      "3bH4HzoZZFq8UpZmI2AMgV               0.062934                0.337838   \n",
      "5ByAIlEEnxYdvpnezg7HTX               0.476834                0.490644   \n",
      "2FUNBaa5DwItJtYEBgAblU               0.239382                0.164241   \n",
      "0BgbobvykXxEvxo2HhCuvM               0.223938                0.625780   \n",
      "7kzKAuUzOITUauHAhoMoxA               0.057336                0.029626   \n",
      "4yKZACkuudvfd600H2dQie               0.116602                0.213098   \n",
      "56NkIxSZZiMpFP5ZNSxtnT               0.058108                0.003430   \n",
      "1g7zNtcGrWt8gcBRwDQEkf               0.136486                0.412682   \n",
      "2DoO0sn4SbUrz7Uay9ACTM               0.080309                0.431393   \n",
      "5piJiL6aRhvrKBa9YuEfS9               0.071815                0.166320   \n",
      "\n",
      "                        resc_resc_instrumentalness  resc_resc_danceability  \\\n",
      "3bH4HzoZZFq8UpZmI2AMgV                    0.040764                0.881789   \n",
      "5ByAIlEEnxYdvpnezg7HTX                    0.000000                0.946752   \n",
      "2FUNBaa5DwItJtYEBgAblU                    0.000242                0.947817   \n",
      "0BgbobvykXxEvxo2HhCuvM                    0.000019                0.866880   \n",
      "7kzKAuUzOITUauHAhoMoxA                    0.000210                0.664537   \n",
      "4yKZACkuudvfd600H2dQie                    0.000064                0.936102   \n",
      "56NkIxSZZiMpFP5ZNSxtnT                    0.000002                0.577210   \n",
      "1g7zNtcGrWt8gcBRwDQEkf                    0.000790                0.534611   \n",
      "2DoO0sn4SbUrz7Uay9ACTM                    0.007856                0.851970   \n",
      "5piJiL6aRhvrKBa9YuEfS9                    0.003439                0.687966   \n",
      "\n",
      "                        party_score  \n",
      "3bH4HzoZZFq8UpZmI2AMgV       82.828  \n",
      "5ByAIlEEnxYdvpnezg7HTX       78.889  \n",
      "2FUNBaa5DwItJtYEBgAblU       74.890  \n",
      "0BgbobvykXxEvxo2HhCuvM       73.814  \n",
      "7kzKAuUzOITUauHAhoMoxA       73.624  \n",
      "4yKZACkuudvfd600H2dQie       71.879  \n",
      "56NkIxSZZiMpFP5ZNSxtnT       67.542  \n",
      "1g7zNtcGrWt8gcBRwDQEkf       64.502  \n",
      "2DoO0sn4SbUrz7Uay9ACTM       62.800  \n",
      "5piJiL6aRhvrKBa9YuEfS9       62.646  \n",
      "\n",
      "[10 rows x 26 columns]\n"
     ]
    }
   ],
   "source": [
    "df_top = df_out.sort_values(by='party_score', ascending=False).head(10)\n",
    "print(df_top)"
   ]
  },
  {
   "cell_type": "markdown",
   "metadata": {},
   "source": [
    "### Store new playlist in Spotify"
   ]
  },
  {
   "cell_type": "code",
   "execution_count": 123,
   "metadata": {},
   "outputs": [],
   "source": [
    "# get track ids\n",
    "lst_top_tracks = df_top.index"
   ]
  },
  {
   "cell_type": "code",
   "execution_count": 127,
   "metadata": {},
   "outputs": [
    {
     "name": "stdout",
     "output_type": "stream",
     "text": [
      "new playlist created:\n",
      "ana big beats party edition\n"
     ]
    }
   ],
   "source": [
    "# create Nearest playlist\n",
    "user ='bramvcamp'\n",
    "new_playlist_name = 'ana big beats party edition'\n",
    "new_playlist = sp.user_playlist_create(user, name=new_playlist_name, public=False)\n",
    "playlist_id = new_playlist.get('id')\n",
    "sp.user_playlist_add_tracks(user, playlist_id, tracks=lst_top_tracks)\n",
    "\n",
    "print(\"new playlist created:\")\n",
    "print(new_playlist_name)"
   ]
  }
 ],
 "metadata": {
  "kernelspec": {
   "display_name": "Python 3",
   "language": "python",
   "name": "python3"
  },
  "language_info": {
   "codemirror_mode": {
    "name": "ipython",
    "version": 3
   },
   "file_extension": ".py",
   "mimetype": "text/x-python",
   "name": "python",
   "nbconvert_exporter": "python",
   "pygments_lexer": "ipython3",
   "version": "3.7.3"
  }
 },
 "nbformat": 4,
 "nbformat_minor": 1
}
