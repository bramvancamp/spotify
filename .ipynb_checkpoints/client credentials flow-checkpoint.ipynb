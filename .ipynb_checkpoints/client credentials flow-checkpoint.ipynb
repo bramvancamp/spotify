{
 "cells": [
  {
   "cell_type": "markdown",
   "metadata": {},
   "source": [
    "# Connecting to Spotify API"
   ]
  },
  {
   "cell_type": "markdown",
   "metadata": {},
   "source": [
    "### Aim of notebook"
   ]
  },
  {
   "cell_type": "markdown",
   "metadata": {},
   "source": [
    "* Connect to Spotify API using Client Credential Flow\n",
    "* Explore content of the playlist object for next projects"
   ]
  },
  {
   "cell_type": "code",
   "execution_count": 7,
   "metadata": {
    "collapsed": true
   },
   "outputs": [],
   "source": [
    "import os"
   ]
  },
  {
   "cell_type": "code",
   "execution_count": 8,
   "metadata": {
    "collapsed": true
   },
   "outputs": [],
   "source": [
    "import spotipy\n",
    "from spotipy.oauth2 import SpotifyClientCredentials"
   ]
  },
  {
   "cell_type": "markdown",
   "metadata": {},
   "source": [
    "### Client Credential Flow"
   ]
  },
  {
   "cell_type": "code",
   "execution_count": 9,
   "metadata": {
    "collapsed": true
   },
   "outputs": [],
   "source": [
    "def get_creds():\n",
    "    \"\"\" Client credentials flow is appropriate for requests that do not require access to a user’s private data. \n",
    "    To support the Client Credentials Flow Spotipy provides a class \"SpotifyClientCredentials\".\n",
    "    \"\"\"\n",
    "    creds = SpotifyClientCredentials(client_id = os.environ['spotipy_id'],\n",
    "                                     client_secret = os.environ['spotipy_secret'])\n",
    "    return creds"
   ]
  },
  {
   "cell_type": "code",
   "execution_count": 10,
   "metadata": {},
   "outputs": [
    {
     "name": "stdout",
     "output_type": "stream",
     "text": [
      "n playlists= 7\n"
     ]
    }
   ],
   "source": [
    "# get playlists from user\n",
    "creds = get_creds()\n",
    "sp = spotipy.Spotify(client_credentials_manager=creds)\n",
    "playlists = sp.user_playlists('bramvcamp')\n",
    "print \"n playlists=\", len(playlists)"
   ]
  },
  {
   "cell_type": "code",
   "execution_count": 11,
   "metadata": {},
   "outputs": [
    {
     "name": "stdout",
     "output_type": "stream",
     "text": [
      "<type 'dict'>\n",
      "[u'items', u'next', u'href', u'limit', u'offset', u'total', u'previous']\n",
      "[u'name', u'collaborative', u'external_urls', u'uri', u'public', u'owner', u'tracks', u'href', u'snapshot_id', u'images', u'type', u'id']\n"
     ]
    }
   ],
   "source": [
    "# explore structure of playlists \n",
    "print type(playlists)\n",
    "print playlists.keys()\n",
    "print playlists['items'][0].keys()"
   ]
  },
  {
   "cell_type": "code",
   "execution_count": 12,
   "metadata": {},
   "outputs": [
    {
     "name": "stdout",
     "output_type": "stream",
     "text": [
      "Elektronik n tracks= 6\n",
      "groevvie n tracks= 6\n",
      "Sleepy beats n tracks= 9\n"
     ]
    }
   ],
   "source": [
    "playlist_ids = []\n",
    "for elem in playlists['items'][0:3]:  # explore the first 3 playlists\n",
    "    print elem['name'], \"n tracks=\", elem['tracks']['total']"
   ]
  }
 ],
 "metadata": {
  "kernelspec": {
   "display_name": "Python 2",
   "language": "python",
   "name": "python2"
  },
  "language_info": {
   "codemirror_mode": {
    "name": "ipython",
    "version": 2
   },
   "file_extension": ".py",
   "mimetype": "text/x-python",
   "name": "python",
   "nbconvert_exporter": "python",
   "pygments_lexer": "ipython2",
   "version": "2.7.13"
  }
 },
 "nbformat": 4,
 "nbformat_minor": 1
}
